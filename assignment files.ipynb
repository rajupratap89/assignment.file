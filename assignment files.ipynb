{
 "cells": [
  {
   "cell_type": "code",
   "execution_count": null,
   "id": "5ddad076-4d41-4a90-af46-73c8e4efa520",
   "metadata": {},
   "outputs": [],
   "source": [
    "Q1. Which function is used to open a file? What are the different modes of opening a file? Explain each mode\n",
    "of file opening."
   ]
  },
  {
   "cell_type": "code",
   "execution_count": 1,
   "id": "9df0ba29-f5b1-4b33-b280-42cbc7b6b761",
   "metadata": {},
   "outputs": [],
   "source": [
    "file =open(\"text.txt\", 'r') "
   ]
  },
  {
   "cell_type": "code",
   "execution_count": null,
   "id": "0f5edddb-28c4-4d8e-8212-f0a5e4b1308f",
   "metadata": {},
   "outputs": [],
   "source": [
    "f=open(\"text1.txt\" ,'w')"
   ]
  },
  {
   "cell_type": "code",
   "execution_count": null,
   "id": "a7c8ec7e-a893-4e75-a9b1-2848512a53c3",
   "metadata": {},
   "outputs": [],
   "source": [
    "Q2. Why close() function is used? Why is it important to close a file?"
   ]
  },
  {
   "cell_type": "code",
   "execution_count": null,
   "id": "d5e67003-f5c7-4afc-a6aa-d1fbdf7d1502",
   "metadata": {},
   "outputs": [],
   "source": [
    "close() function is used because if new file open then before close() file then open new file.if we not close a file open new file data go to first file therefore use close() file."
   ]
  },
  {
   "cell_type": "code",
   "execution_count": 2,
   "id": "a16e35a7-bb65-4e25-8e4e-64ff1dc2f79a",
   "metadata": {},
   "outputs": [],
   "source": [
    "f=open(\"text1.txt\" ,'w')"
   ]
  },
  {
   "cell_type": "code",
   "execution_count": 3,
   "id": "164ea224-fb4c-464b-8f2b-737fda8f0402",
   "metadata": {},
   "outputs": [
    {
     "data": {
      "text/plain": [
       "15"
      ]
     },
     "execution_count": 3,
     "metadata": {},
     "output_type": "execute_result"
    }
   ],
   "source": [
    "f.write(\"write something\")"
   ]
  },
  {
   "cell_type": "code",
   "execution_count": 4,
   "id": "565a27bf-f8b8-4fdc-b314-3a654a2db128",
   "metadata": {},
   "outputs": [],
   "source": [
    "f.close()"
   ]
  },
  {
   "cell_type": "code",
   "execution_count": null,
   "id": "7b029a49-0ee1-4e5d-b1ae-8446583ccc74",
   "metadata": {},
   "outputs": [],
   "source": [
    "Q3. Write a python program to create a text file. Write ‘I want to become a Data Scientist’ in that file. Then\n",
    "close the file. Open this file and read the content of the file."
   ]
  },
  {
   "cell_type": "code",
   "execution_count": 8,
   "id": "7a3c73bb-b435-42f0-9f20-a015acaf2565",
   "metadata": {},
   "outputs": [],
   "source": [
    "f=open(\"text6.txt\" ,'w')"
   ]
  },
  {
   "cell_type": "code",
   "execution_count": 9,
   "id": "5986d86d-82e7-4852-8bc4-4361961f7a42",
   "metadata": {},
   "outputs": [
    {
     "data": {
      "text/plain": [
       "33"
      ]
     },
     "execution_count": 9,
     "metadata": {},
     "output_type": "execute_result"
    }
   ],
   "source": [
    "f.write(\"I want to become a Data Scientist\")"
   ]
  },
  {
   "cell_type": "code",
   "execution_count": 10,
   "id": "b4a9dba3-5bd0-4f5b-b4f8-b2ef5801fc81",
   "metadata": {},
   "outputs": [],
   "source": [
    "f.close()"
   ]
  },
  {
   "cell_type": "code",
   "execution_count": 11,
   "id": "8315fcfa-bc6b-42bb-85ed-21b5746df6be",
   "metadata": {},
   "outputs": [],
   "source": [
    "f=open(\"text6.txt\" ,'r')"
   ]
  },
  {
   "cell_type": "code",
   "execution_count": 12,
   "id": "b12dfcc8-003c-4749-b25c-647f0d2386e8",
   "metadata": {},
   "outputs": [
    {
     "data": {
      "text/plain": [
       "'I want to become a Data Scientist'"
      ]
     },
     "execution_count": 12,
     "metadata": {},
     "output_type": "execute_result"
    }
   ],
   "source": [
    "f.read()"
   ]
  },
  {
   "cell_type": "code",
   "execution_count": null,
   "id": "1c0dda22-cf2a-4cf5-8407-ac7bac2d570a",
   "metadata": {},
   "outputs": [],
   "source": [
    "Q4. Explain the following with python code: read(), readline() and readlines()."
   ]
  },
  {
   "cell_type": "code",
   "execution_count": 8,
   "id": "bc5224ab-1c91-4d32-a79b-4018da4c175f",
   "metadata": {},
   "outputs": [],
   "source": [
    "f=open(\"text7.txt\",'w')"
   ]
  },
  {
   "cell_type": "code",
   "execution_count": 9,
   "id": "8fbc82be-45b6-49b6-ad38-ac0a67cac130",
   "metadata": {},
   "outputs": [
    {
     "data": {
      "text/plain": [
       "311"
      ]
     },
     "execution_count": 9,
     "metadata": {},
     "output_type": "execute_result"
    }
   ],
   "source": [
    "f.write(\"Python is a widely used general-purpose, high level programming language. It was created by Guido van Rossum in 1991 and further developed by the Python Software Foundation. It was designed with an emphasis on code readability, and its syntax allows programmers to express their concepts in fewer lines of code.\")"
   ]
  },
  {
   "cell_type": "code",
   "execution_count": 11,
   "id": "5fe74300-b164-4501-bb39-f27f20ee54db",
   "metadata": {},
   "outputs": [],
   "source": [
    "f.close()"
   ]
  },
  {
   "cell_type": "code",
   "execution_count": 12,
   "id": "51b77246-a0a5-425e-9f26-d98385bdf6f1",
   "metadata": {},
   "outputs": [],
   "source": [
    "f=open(\"text7.txt\",'r')"
   ]
  },
  {
   "cell_type": "code",
   "execution_count": 13,
   "id": "86a38586-8b8c-4190-aee7-7bfcecf3f348",
   "metadata": {},
   "outputs": [
    {
     "data": {
      "text/plain": [
       "'Python is a widely used general-purpose, high level programming language. It was created by Guido van Rossum in 1991 and further developed by the Python Software Foundation. It was designed with an emphasis on code readability, and its syntax allows programmers to express their concepts in fewer lines of code.'"
      ]
     },
     "execution_count": 13,
     "metadata": {},
     "output_type": "execute_result"
    }
   ],
   "source": [
    "f.read()"
   ]
  },
  {
   "cell_type": "code",
   "execution_count": 14,
   "id": "fe7c4bfc-5300-4784-8707-d2811da3a317",
   "metadata": {},
   "outputs": [],
   "source": [
    "data=open(\"text7.txt\",'r')"
   ]
  },
  {
   "cell_type": "code",
   "execution_count": 15,
   "id": "cd2e0e26-b06e-4194-bab8-7d72f831caa2",
   "metadata": {},
   "outputs": [
    {
     "data": {
      "text/plain": [
       "'Python is a widely used general-purpose, high level programming language. It was created by Guido van Rossum in 1991 and further developed by the Python Software Foundation. It was designed with an emphasis on code readability, and its syntax allows programmers to express their concepts in fewer lines of code.'"
      ]
     },
     "execution_count": 15,
     "metadata": {},
     "output_type": "execute_result"
    }
   ],
   "source": [
    "data.readline()"
   ]
  },
  {
   "cell_type": "code",
   "execution_count": 17,
   "id": "9283cdd9-2310-4029-9b0c-2ae2a93df2c4",
   "metadata": {},
   "outputs": [
    {
     "data": {
      "text/plain": [
       "8"
      ]
     },
     "execution_count": 17,
     "metadata": {},
     "output_type": "execute_result"
    }
   ],
   "source": [
    "data.seek(8)"
   ]
  },
  {
   "cell_type": "code",
   "execution_count": 18,
   "id": "63a9fb0a-6495-4e48-8ef0-62a20d243704",
   "metadata": {},
   "outputs": [
    {
     "data": {
      "text/plain": [
       "['s a widely used general-purpose, high level programming language. It was created by Guido van Rossum in 1991 and further developed by the Python Software Foundation. It was designed with an emphasis on code readability, and its syntax allows programmers to express their concepts in fewer lines of code.']"
      ]
     },
     "execution_count": 18,
     "metadata": {},
     "output_type": "execute_result"
    }
   ],
   "source": [
    "data.readlines()"
   ]
  },
  {
   "cell_type": "code",
   "execution_count": null,
   "id": "e4ed4222-4a30-4642-aefc-50bbf4f5bd4b",
   "metadata": {},
   "outputs": [],
   "source": [
    "Q5. Explain why with statement is used with open(). What is the advantage of using with statement and\n",
    "open() together?"
   ]
  },
  {
   "cell_type": "code",
   "execution_count": null,
   "id": "e9e7ab14-3993-4707-a76b-507344f6e40f",
   "metadata": {},
   "outputs": [],
   "source": [
    "with open('file.txt', 'r') as file:\n",
    "    # code to read or write to the file\n",
    "# file is automatically closed outside the with block\n"
   ]
  },
  {
   "cell_type": "code",
   "execution_count": null,
   "id": "a3a1ab74-b302-4ca8-8db3-51c4049aa174",
   "metadata": {},
   "outputs": [],
   "source": [
    "advantage-Automatic Resource Managemen,cleaner the code,exception handling"
   ]
  },
  {
   "cell_type": "code",
   "execution_count": null,
   "id": "c5d6a22c-3cd9-44b1-b308-f8bfc92f6294",
   "metadata": {},
   "outputs": [],
   "source": [
    "Q6. Explain the write() and writelines() functions. Give a suitable example."
   ]
  },
  {
   "cell_type": "code",
   "execution_count": 19,
   "id": "f294f992-df57-48c2-a814-64fb18784005",
   "metadata": {},
   "outputs": [],
   "source": [
    "f=open(\"text8.txt\",'w')"
   ]
  },
  {
   "cell_type": "code",
   "execution_count": 20,
   "id": "b3817887-7bb4-4604-84d2-224fd7f090bb",
   "metadata": {},
   "outputs": [
    {
     "data": {
      "text/plain": [
       "223"
      ]
     },
     "execution_count": 20,
     "metadata": {},
     "output_type": "execute_result"
    }
   ],
   "source": [
    "f.write(\"Certainly! I can help you with coding-related questions, concepts, specific programming languages, algorithms, or anything else related to coding. Feel free to ask a specific question or let me know what you need help with!\")"
   ]
  },
  {
   "cell_type": "code",
   "execution_count": 23,
   "id": "3bdb3062-18ea-43bd-9563-3efae12ee89b",
   "metadata": {},
   "outputs": [],
   "source": [
    "data1=open(\"text8.txt\",'w')"
   ]
  },
  {
   "cell_type": "code",
   "execution_count": 26,
   "id": "1273cb77-bd74-448f-a63d-c8b379b41db1",
   "metadata": {},
   "outputs": [
    {
     "data": {
      "text/plain": [
       "9"
      ]
     },
     "execution_count": 26,
     "metadata": {},
     "output_type": "execute_result"
    }
   ],
   "source": [
    "data.seek(9)"
   ]
  },
  {
   "cell_type": "code",
   "execution_count": 27,
   "id": "4752039d-823f-4f8a-b80e-c4f30917523c",
   "metadata": {},
   "outputs": [
    {
     "ename": "TypeError",
     "evalue": "_IOBase.writelines() takes exactly one argument (0 given)",
     "output_type": "error",
     "traceback": [
      "\u001b[0;31m---------------------------------------------------------------------------\u001b[0m",
      "\u001b[0;31mTypeError\u001b[0m                                 Traceback (most recent call last)",
      "Cell \u001b[0;32mIn[27], line 1\u001b[0m\n\u001b[0;32m----> 1\u001b[0m \u001b[43mdata\u001b[49m\u001b[38;5;241;43m.\u001b[39;49m\u001b[43mwritelines\u001b[49m\u001b[43m(\u001b[49m\u001b[43m)\u001b[49m\n",
      "\u001b[0;31mTypeError\u001b[0m: _IOBase.writelines() takes exactly one argument (0 given)"
     ]
    }
   ],
   "source": [
    "data.writelines()"
   ]
  },
  {
   "cell_type": "code",
   "execution_count": null,
   "id": "a1dabed1-a80d-4a1c-b85c-1568618837ef",
   "metadata": {},
   "outputs": [],
   "source": []
  }
 ],
 "metadata": {
  "kernelspec": {
   "display_name": "Python 3 (ipykernel)",
   "language": "python",
   "name": "python3"
  },
  "language_info": {
   "codemirror_mode": {
    "name": "ipython",
    "version": 3
   },
   "file_extension": ".py",
   "mimetype": "text/x-python",
   "name": "python",
   "nbconvert_exporter": "python",
   "pygments_lexer": "ipython3",
   "version": "3.10.8"
  }
 },
 "nbformat": 4,
 "nbformat_minor": 5
}
